{
 "cells": [
  {
   "cell_type": "code",
   "execution_count": 1,
   "id": "464df2b6-8dbe-4b6c-8359-3297ed4d920d",
   "metadata": {},
   "outputs": [],
   "source": [
    "import json\n",
    "import openai\n",
    "import os\n",
    "import sys\n",
    "import requests"
   ]
  },
  {
   "cell_type": "code",
   "execution_count": 2,
   "id": "10be45db-6d09-488a-90e4-39037d6c2d5a",
   "metadata": {},
   "outputs": [],
   "source": [
    "def translate(text,o_lang,t_lang):\n",
    "    data = {'text':text, 'source':o_lang,'target':t_lang} \n",
    "\n",
    "    client_id = \"client_id\" #client_id 입력\n",
    "    client_secret = \"client_secret\"    #secret 키 입력\n",
    "    url = \"https://openapi.naver.com/v1/papago/n2mt\"\n",
    "\n",
    "    header = {\"X-Naver-Client-Id\":client_id,\"X-Naver-Client-Secret\":client_secret}\n",
    "\n",
    "    response = requests.post(url, headers=header, data= data)\n",
    "    rescode = response.status_code\n",
    "\n",
    "    if(rescode==200):\n",
    "        t_data = response.json()\n",
    "    \n",
    "        return t_data['message']['result']['translatedText']\n",
    "    else:\n",
    "        print('Error Code: ', rescode)"
   ]
  },
  {
   "cell_type": "code",
   "execution_count": 3,
   "id": "cb3c7ef6-1881-42ff-9295-9557600a0035",
   "metadata": {},
   "outputs": [],
   "source": [
    "def gpt3(text):\n",
    "    openai.api_key = \"api_key\"  #api key 입력\n",
    "\n",
    "    response = openai.Completion.create(engine=\"davinci\", prompt=text, temperature=0.2, max_tokens=30)  #temp 조절에 따라 답변이 달라진다\n",
    "  \n",
    "    answer = response.choices[0].text.split('.')[0]\n",
    "    answer = answer.replace('\\n\\n','')\n",
    "    answer = answer.replace('”  “', '')\n",
    "\n",
    "    return answer"
   ]
  },
  {
   "cell_type": "code",
   "execution_count": 4,
   "id": "27cb9862-3c8c-43b0-b421-cf043b13245c",
   "metadata": {},
   "outputs": [
    {
     "name": "stdin",
     "output_type": "stream",
     "text": [
      "하고 싶은말 입력: \n",
      " 오늘 기분이 어때?\n"
     ]
    },
    {
     "name": "stdout",
     "output_type": "stream",
     "text": [
      "번역:  How are you today?\n",
      "\n",
      "\n",
      "”“I’m fine\n",
      "번역:  \"\"난 괜찮아\n",
      "\n",
      "\n"
     ]
    }
   ],
   "source": [
    "text = input(\"하고 싶은말 입력: \\n\")\n",
    "translate(text,'ko','en')\n",
    "text = translate(text,'ko','en')\n",
    "print('번역: ',text) # 질문을 영어로 변환\n",
    "print('\\n')\n",
    "\n",
    "# GPT-3\n",
    "gpt3(text)\n",
    "answer = gpt3(text)\n",
    "print(answer)\n",
    "translate(answer,'en','ko')\n",
    "answer = translate(answer,'en','ko')\n",
    "print('번역: ',answer)\n",
    "print('\\n')"
   ]
  },
  {
   "cell_type": "code",
   "execution_count": null,
   "id": "dc1efcf8-45dd-4199-9888-1dbf129017be",
   "metadata": {},
   "outputs": [],
   "source": []
  }
 ],
 "metadata": {
  "kernelspec": {
   "display_name": "Python 3 (ipykernel)",
   "language": "python",
   "name": "python3"
  },
  "language_info": {
   "codemirror_mode": {
    "name": "ipython",
    "version": 3
   },
   "file_extension": ".py",
   "mimetype": "text/x-python",
   "name": "python",
   "nbconvert_exporter": "python",
   "pygments_lexer": "ipython3",
   "version": "3.9.7"
  }
 },
 "nbformat": 4,
 "nbformat_minor": 5
}
